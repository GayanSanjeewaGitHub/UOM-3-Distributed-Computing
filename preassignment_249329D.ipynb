{
 "cells": [
  {
   "cell_type": "code",
   "execution_count": 1,
   "id": "b5c3c95d",
   "metadata": {},
   "outputs": [
    {
     "name": "stdout",
     "output_type": "stream",
     "text": [
      "[Part 1] Final balance (no locks): 1100 (should be 1000)\n"
     ]
    }
   ],
   "source": [
    "import threading, time, random\n",
    "\n",
    "# ---------- Part 1: Concurrency Issues ----------\n",
    "class BankAccount:\n",
    "    def __init__(self, balance=1000):\n",
    "        self.balance = balance\n",
    "        self.lock = threading.Lock()\n",
    "\n",
    "    def deposit_no_lock(self, amount):\n",
    "        temp = self.balance\n",
    "        time.sleep(random.uniform(0.01, 0.05))\n",
    "        self.balance = temp + amount\n",
    "\n",
    "    def withdraw_no_lock(self, amount):\n",
    "        temp = self.balance\n",
    "        time.sleep(random.uniform(0.01, 0.05))\n",
    "        self.balance = temp - amount\n",
    "\n",
    "    def deposit_safe(self, amount):\n",
    "        with self.lock:\n",
    "            temp = self.balance\n",
    "            time.sleep(random.uniform(0.01, 0.05))\n",
    "            self.balance = temp + amount\n",
    "\n",
    "    def withdraw_safe(self, amount):\n",
    "        with self.lock:\n",
    "            temp = self.balance\n",
    "            time.sleep(random.uniform(0.01, 0.05))\n",
    "            self.balance = temp - amount\n",
    "\n",
    "\n",
    "# Run threads without locks to see incorrect result\n",
    "def simulate_concurrency_issue():\n",
    "    acc = BankAccount(1000)\n",
    "    threads = [\n",
    "        threading.Thread(target=acc.deposit_no_lock, args=(100,)),\n",
    "        threading.Thread(target=acc.withdraw_no_lock, args=(100,))\n",
    "    ]\n",
    "    for t in threads: t.start()\n",
    "    for t in threads: t.join()\n",
    "    print(f\"[Part 1] Final balance (no locks): {acc.balance} (should be 1000)\")\n",
    "\n",
    "simulate_concurrency_issue()\n"
   ]
  },
  {
   "cell_type": "code",
   "execution_count": 2,
   "id": "6b48108f",
   "metadata": {},
   "outputs": [
    {
     "name": "stdout",
     "output_type": "stream",
     "text": [
      "Server A: acquired DB, requesting Fraud Detection\n",
      "Server B: acquired Fraud Detection, requesting DB\n",
      "[Part 2] Deadlock detected if threads hang due to circular wait.\n"
     ]
    }
   ],
   "source": [
    "# ---------- Part 2: Deadlock Scenario ----------\n",
    "db_lock = threading.Lock()\n",
    "fraud_lock = threading.Lock()\n",
    "\n",
    "def server_A():\n",
    "    try:\n",
    "        with db_lock:\n",
    "            print(\"Server A: acquired DB, requesting Fraud Detection\")\n",
    "            time.sleep(0.1)\n",
    "            with fraud_lock:\n",
    "                print(\"Server A: acquired Fraud Detection\")\n",
    "    except Exception as e:\n",
    "        print(f\"Server A Error: {e}\")\n",
    "\n",
    "def server_B():\n",
    "    try:\n",
    "        with fraud_lock:\n",
    "            print(\"Server B: acquired Fraud Detection, requesting DB\")\n",
    "            time.sleep(0.1)\n",
    "            with db_lock:\n",
    "                print(\"Server B: acquired DB\")\n",
    "    except Exception as e:\n",
    "        print(f\"Server B Error: {e}\")\n",
    "\n",
    "# Simulate potential deadlock\n",
    "t1 = threading.Thread(target=server_A)\n",
    "t2 = threading.Thread(target=server_B)\n",
    "t1.start(); t2.start()\n",
    "t1.join(timeout=1); t2.join(timeout=1)\n",
    "\n",
    "print(\"[Part 2] Deadlock detected if threads hang due to circular wait.\")\n"
   ]
  },
  {
   "cell_type": "code",
   "execution_count": 4,
   "id": "8d21fad2",
   "metadata": {},
   "outputs": [
    {
     "name": "stdout",
     "output_type": "stream",
     "text": [
      "[Part 3] Wait-For Graph Edges: [('A', 'B'), ('B', 'C'), ('C', 'D'), ('D', 'A')]\n",
      "[Part 3] Cycles detected: [['D', 'A', 'B', 'C']]\n",
      "[Part 3] After removing D, remaining edges: [('A', 'B'), ('B', 'C')]\n",
      "[Part 3] Deadlock persists after removing D? False\n"
     ]
    }
   ],
   "source": [
    "# ---------- Part 3: Wait-For Graph Analysis ----------\n",
    "import networkx as nx\n",
    "\n",
    "def wait_for_graph_example():\n",
    "    G = nx.DiGraph()\n",
    "    edges = [(\"A\", \"B\"), (\"B\", \"C\"), (\"C\", \"D\"), (\"D\", \"A\")]\n",
    "    G.add_edges_from(edges)\n",
    "    print(f\"[Part 3] Wait-For Graph Edges: {list(G.edges())}\")\n",
    "    cycle = list(nx.simple_cycles(G))\n",
    "    print(f\"[Part 3] Cycles detected: {cycle}\")\n",
    "    G.remove_node(\"D\")\n",
    "    print(f\"[Part 3] After removing D, remaining edges: {list(G.edges())}\")\n",
    "    cycle_after = list(nx.simple_cycles(G))\n",
    "    print(f\"[Part 3] Deadlock persists after removing D? {bool(cycle_after)}\")\n",
    "\n",
    "wait_for_graph_example()\n"
   ]
  },
  {
   "cell_type": "code",
   "execution_count": 5,
   "id": "c08ecf71",
   "metadata": {},
   "outputs": [
    {
     "name": "stdout",
     "output_type": "stream",
     "text": [
      "[Part 4] PROBE(A, A→B)\n",
      "[Part 4] PROBE(A, B→C)\n",
      "[Part 4] PROBE(A, C→D)\n",
      "[Part 4] PROBE(A, D→A)\n",
      "[Part 4] Deadlock confirmed when probe returns to initiator (A).\n"
     ]
    }
   ],
   "source": [
    "# ---------- Part 4: Mitchell & Merritt’s Algorithm ----------\n",
    "def mitchell_merritt_probe_chain():\n",
    "    probe_chain = [\n",
    "        \"PROBE(A, A→B)\",\n",
    "        \"PROBE(A, B→C)\",\n",
    "        \"PROBE(A, C→D)\",\n",
    "        \"PROBE(A, D→A)\"\n",
    "    ]\n",
    "    for step in probe_chain:\n",
    "        print(f\"[Part 4] {step}\")\n",
    "        time.sleep(0.1)\n",
    "    print(\"[Part 4] Deadlock confirmed when probe returns to initiator (A).\")\n",
    "\n",
    "mitchell_merritt_probe_chain()\n"
   ]
  },
  {
   "cell_type": "code",
   "execution_count": 6,
   "id": "29681ef3",
   "metadata": {},
   "outputs": [
    {
     "name": "stdout",
     "output_type": "stream",
     "text": [
      "[Part 5] Policy 1 (Kill lowest priority): Terminating Server C\n",
      "[Part 5] Policy 2 (Kill highest priority): Terminating Server D\n",
      "[Part 5] Policy 3 (Kill last in probe chain): Terminating Server D\n",
      "[Part 5] Freed resources returned to waiting servers.\n"
     ]
    }
   ],
   "source": [
    "# ---------- Part 5: Deadlock Resolution ----------\n",
    "def resolve_deadlock(priorities):\n",
    "    try:\n",
    "        lowest = min(priorities, key=priorities.get)\n",
    "        print(f\"[Part 5] Policy 1 (Kill lowest priority): Terminating Server {lowest}\")\n",
    "        alt1 = max(priorities, key=priorities.get)\n",
    "        print(f\"[Part 5] Policy 2 (Kill highest priority): Terminating Server {alt1}\")\n",
    "        chain = [\"A\", \"B\", \"C\", \"D\"]\n",
    "        print(f\"[Part 5] Policy 3 (Kill last in probe chain): Terminating Server {chain[-1]}\")\n",
    "    except Exception as e:\n",
    "        print(f\"Deadlock resolution error: {e}\")\n",
    "    finally:\n",
    "        print(\"[Part 5] Freed resources returned to waiting servers.\")\n",
    "\n",
    "priorities = {\"A\": 3, \"B\": 2, \"C\": 1, \"D\": 4}\n",
    "resolve_deadlock(priorities)\n"
   ]
  },
  {
   "cell_type": "code",
   "execution_count": 7,
   "id": "54139fda",
   "metadata": {},
   "outputs": [
    {
     "name": "stdout",
     "output_type": "stream",
     "text": [
      "[Part 6] Mitchell & Merritt’s algorithm is ideal for distributed systems.\n",
      "It avoids centralized deadlock detection overhead and allows each node to participate in detection.\n",
      "Concurrency control ensures atomicity and prevents ATM/freezing issues, improving reliability.\n",
      "Deadlock resolution ensures high system availability and better customer experience.\n"
     ]
    }
   ],
   "source": [
    "# ---------- Part 6: Reflection ----------\n",
    "def reflection_summary():\n",
    "    print(\"[Part 6] Mitchell & Merritt’s algorithm is ideal for distributed systems.\")\n",
    "    print(\"It avoids centralized deadlock detection overhead and allows each node to participate in detection.\")\n",
    "    print(\"Concurrency control ensures atomicity and prevents ATM/freezing issues, improving reliability.\")\n",
    "    print(\"Deadlock resolution ensures high system availability and better customer experience.\")\n",
    "\n",
    "reflection_summary()\n"
   ]
  }
 ],
 "metadata": {
  "kernelspec": {
   "display_name": "envdis",
   "language": "python",
   "name": "python3"
  },
  "language_info": {
   "codemirror_mode": {
    "name": "ipython",
    "version": 3
   },
   "file_extension": ".py",
   "mimetype": "text/x-python",
   "name": "python",
   "nbconvert_exporter": "python",
   "pygments_lexer": "ipython3",
   "version": "3.10.0"
  }
 },
 "nbformat": 4,
 "nbformat_minor": 5
}
