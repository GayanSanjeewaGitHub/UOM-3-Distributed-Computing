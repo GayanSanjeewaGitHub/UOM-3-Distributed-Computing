{
 "cells": [
  {
   "cell_type": "code",
   "execution_count": 1,
   "id": "initial_id",
   "metadata": {
    "ExecuteTime": {
     "end_time": "2025-09-27T11:38:44.130977Z",
     "start_time": "2025-09-27T11:38:44.120959Z"
    },
    "collapsed": true
   },
   "outputs": [
    {
     "name": "stdout",
     "output_type": "stream",
     "text": [
      "[Deposit] Reading balance: 1000\n",
      "[Deposit] Updated balance: 1100\n",
      "[Deposit] Reading balance: 1100\n",
      "[Deposit] Updated balance: 1200\n",
      "[Deposit] Reading balance: 1200\n",
      "[Deposit] Updated balance: 1300\n",
      "[Withdraw] Reading balance: 1300\n",
      "[Withdraw] Updated balance: 1250\n",
      "[Withdraw] Reading balance: 1250\n",
      "[Withdraw] Updated balance: 1200\n",
      "[Withdraw] Reading balance: 1200\n",
      "[Withdraw] Updated balance: 1150\n",
      "Final Balance: 1150\n"
     ]
    }
   ],
   "source": [
    "import threading\n",
    "import time\n",
    "\n",
    "balance = 1000  # Shared resource (bank account)\n",
    "lock = threading.Lock()  # Lock for concurrency control\n",
    "\n",
    "\n",
    "def deposit(amount):\n",
    "    global balance\n",
    "    for _ in range(3):\n",
    "        # Critical section protected by lock\n",
    "        # with lock:\n",
    "        temp = balance  # read\n",
    "        print(f\"[Deposit] Reading balance: {temp}\")\n",
    "        # time.sleep(0.5)  # simulate delay\n",
    "        balance = temp + amount  # update\n",
    "        print(f\"[Deposit] Updated balance: {balance}\")\n",
    "\n",
    "\n",
    "def withdraw(amount):\n",
    "    global balance\n",
    "    for _ in range(3):\n",
    "        # with lock:\n",
    "        temp = balance\n",
    "        print(f\"[Withdraw] Reading balance: {temp}\")\n",
    "        # time.sleep(0.5)\n",
    "        if temp >= amount:\n",
    "            balance = temp - amount\n",
    "            print(f\"[Withdraw] Updated balance: {balance}\")\n",
    "        else:\n",
    "            print(\"[Withdraw] Insufficient funds!\")\n",
    "\n",
    "\n",
    "# Run deposit and withdraw concurrently\n",
    "t1 = threading.Thread(target=deposit, args=(100,))\n",
    "t2 = threading.Thread(target=withdraw, args=(50,))\n",
    "\n",
    "t1.start()\n",
    "t2.start()\n",
    "t1.join()\n",
    "t2.join()\n",
    "\n",
    "print(f\"Final Balance: {balance}\")"
   ]
  },
  {
   "cell_type": "markdown",
   "id": "d853eb1c5f179104",
   "metadata": {},
   "source": [
    "Part 1.\n",
    "Final Balance: 1300\n",
    "\n",
    "Balance is accessed by two threads  to change its value , when both threads read the same value of balance before any thread updates it, they both update it based on the same initial value, leading to lost updates and incorrect final balance.\n",
    "Actual balance is often incorrect , because two threads read/update/write balance at the same time."
   ]
  },
  {
   "cell_type": "markdown",
   "id": "e8c4b1111557408",
   "metadata": {},
   "source": [
    "Part 2."
   ]
  },
  {
   "cell_type": "code",
   "execution_count": null,
   "id": "826db7478252ff12",
   "metadata": {
    "ExecuteTime": {
     "end_time": "2025-09-27T12:19:12.457053Z",
     "start_time": "2025-09-27T12:18:48.582200Z"
    }
   },
   "outputs": [
    {
     "name": "stdout",
     "output_type": "stream",
     "text": [
      "Task1 acquired Lock1\n",
      "Task2 acquired Lock2\n"
     ]
    }
   ],
   "source": [
    "lock1 = threading.Lock()\n",
    "lock2 = threading.Lock()\n",
    "\n",
    "def task1():\n",
    "    with lock1:\n",
    "        print(\"Task1 acquired Lock1\")\n",
    "        time.sleep(1)\n",
    "        with lock2:\n",
    "            print(\"Task1 acquired Lock2\")\n",
    "\n",
    "def task2():\n",
    "    with lock2:\n",
    "        print(\"Task2 acquired Lock2\")\n",
    "        time.sleep(1)\n",
    "        with lock1:\n",
    "            print(\"Task2 acquired Lock1\")\n",
    "\n",
    "t1 = threading.Thread(target=task1)\n",
    "t2 = threading.Thread(target=task2)\n",
    "\n",
    "t1.start()\n",
    "t2.start()\n",
    "t1.join()\n",
    "t2.join()\n"
   ]
  },
  {
   "cell_type": "markdown",
   "id": "1e9c080ef9327a82",
   "metadata": {},
   "source": [
    "- Question: Why does the system freeze?\n",
    "    Beacuse both threads are waiting for each other to release the locks they need to proceed, resulting in a deadlock situation where neither thread can continue execution.\n",
    "\n",
    "- Discussion: Which of Coffman’s 4 conditions cause the deadlock?\n",
    "----------------\n",
    "- Mutual Exclusion: Locks are held by one thread at a time.\n",
    "- Hold and Wait: Each thread holds one lock and waits for the other.\n",
    "- No Preemption: Locks cannot be forcibly taken from a thread.\n",
    "- Circular Wait: Each thread is waiting for a resource held by the other, creating a cycle\n"
   ]
  }
 ],
 "metadata": {
  "kernelspec": {
   "display_name": "envdis",
   "language": "python",
   "name": "python3"
  },
  "language_info": {
   "codemirror_mode": {
    "name": "ipython",
    "version": 3
   },
   "file_extension": ".py",
   "mimetype": "text/x-python",
   "name": "python",
   "nbconvert_exporter": "python",
   "pygments_lexer": "ipython3",
   "version": "3.10.0"
  }
 },
 "nbformat": 4,
 "nbformat_minor": 5
}
