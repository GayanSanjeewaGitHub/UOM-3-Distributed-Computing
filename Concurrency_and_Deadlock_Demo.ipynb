{
 "cells": [
  {
   "cell_type": "markdown",
   "id": "662e267f",
   "metadata": {},
   "source": [
    "# ⚙️ Concurrency, Race Conditions, and Deadlocks in Distributed Systems\n",
    "This notebook demonstrates **concurrent events**, **concurrency control**, and **deadlock handling** using Python examples.\n",
    "\n",
    "You will explore:\n",
    "1. Race conditions caused by concurrent access to shared resources.\n",
    "2. How locks (mutexes) solve concurrency issues.\n",
    "3. How deadlocks arise.\n",
    "4. Techniques to prevent deadlocks (lock ordering).\n",
    "\n",
    "By the end, you will understand how concurrency is controlled and how deadlocks can be avoided in practice."
   ]
  },
  {
   "cell_type": "markdown",
   "id": "1bf4567c",
   "metadata": {},
   "source": [
    "## 🔹 Example 1: Race Condition vs Concurrency Control\n",
    "In this example, two threads (Deposit & Withdraw) update a shared resource (`balance`).\n",
    "\n",
    "- Without locks → inconsistent results due to race conditions.\n",
    "- With locks → correct, consistent results."
   ]
  },
  {
   "cell_type": "code",
   "execution_count": null,
   "id": "ce539daa",
   "metadata": {},
   "outputs": [],
   "source": [
    "\n",
    "import threading\n",
    "import time\n",
    "\n",
    "balance = 1000  # Shared resource (bank account)\n",
    "lock = threading.Lock()  # Lock for concurrency control\n",
    "\n",
    "def deposit(amount):\n",
    "    global balance\n",
    "    for _ in range(3):\n",
    "        # Critical section protected by lock\n",
    "        with lock:\n",
    "            temp = balance  # read\n",
    "            print(f\"[Deposit] Reading balance: {temp}\")\n",
    "            time.sleep(0.5)  # simulate delay\n",
    "            balance = temp + amount  # update\n",
    "            print(f\"[Deposit] Updated balance: {balance}\")\n",
    "\n",
    "def withdraw(amount):\n",
    "    global balance\n",
    "    for _ in range(3):\n",
    "        with lock:\n",
    "            temp = balance\n",
    "            print(f\"[Withdraw] Reading balance: {temp}\")\n",
    "            time.sleep(0.5)\n",
    "            if temp >= amount:\n",
    "                balance = temp - amount\n",
    "                print(f\"[Withdraw] Updated balance: {balance}\")\n",
    "            else:\n",
    "                print(\"[Withdraw] Insufficient funds!\")\n",
    "\n",
    "# Run deposit and withdraw concurrently\n",
    "t1 = threading.Thread(target=deposit, args=(100,))\n",
    "t2 = threading.Thread(target=withdraw, args=(50,))\n",
    "\n",
    "t1.start()\n",
    "t2.start()\n",
    "t1.join()\n",
    "t2.join()\n",
    "\n",
    "print(f\"Final Balance: {balance}\")\n"
   ]
  },
  {
   "cell_type": "markdown",
   "id": "e9671ba0",
   "metadata": {},
   "source": [
    "## 🔹 Example 2: Deadlock Scenario\n",
    "Two threads try to acquire two locks in **different orders**.\n",
    "\n",
    "- Task1 locks `lock1` then waits for `lock2`.\n",
    "- Task2 locks `lock2` then waits for `lock1`.\n",
    "\n",
    "⚠️ This causes a **deadlock** — both wait forever."
   ]
  },
  {
   "cell_type": "code",
   "execution_count": null,
   "id": "71bed76b",
   "metadata": {},
   "outputs": [],
   "source": [
    "\n",
    "lock1 = threading.Lock()\n",
    "lock2 = threading.Lock()\n",
    "\n",
    "def task1():\n",
    "    with lock1:\n",
    "        print(\"Task1 acquired Lock1\")\n",
    "        time.sleep(1)\n",
    "        with lock2:\n",
    "            print(\"Task1 acquired Lock2\")\n",
    "\n",
    "def task2():\n",
    "    with lock2:\n",
    "        print(\"Task2 acquired Lock2\")\n",
    "        time.sleep(1)\n",
    "        with lock1:\n",
    "            print(\"Task2 acquired Lock1\")\n",
    "\n",
    "t1 = threading.Thread(target=task1)\n",
    "t2 = threading.Thread(target=task2)\n",
    "\n",
    "t1.start()\n",
    "t2.start()\n",
    "t1.join()\n",
    "t2.join()\n"
   ]
  },
  {
   "cell_type": "markdown",
   "id": "3c852c3b",
   "metadata": {},
   "source": [
    "## 🔹 Example 3: Deadlock Prevention with Lock Ordering\n",
    "To prevent deadlocks, all threads acquire locks in the **same order**.\n",
    "\n",
    "- Both Task1 and Task2 acquire `lock1` first, then `lock2`.\n",
    "- No circular waiting → **no deadlock**."
   ]
  },
  {
   "cell_type": "code",
   "execution_count": null,
   "id": "f1981007",
   "metadata": {},
   "outputs": [],
   "source": [
    "\n",
    "def task1_fixed():\n",
    "    with lock1:\n",
    "        with lock2:\n",
    "            print(\"Task1 safely acquired Lock1 & Lock2\")\n",
    "\n",
    "def task2_fixed():\n",
    "    with lock1:\n",
    "        with lock2:\n",
    "            print(\"Task2 safely acquired Lock1 & Lock2\")\n",
    "\n",
    "t1 = threading.Thread(target=task1_fixed)\n",
    "t2 = threading.Thread(target=task2_fixed)\n",
    "\n",
    "t1.start()\n",
    "t2.start()\n",
    "t1.join()\n",
    "t2.join()\n"
   ]
  },
  {
   "cell_type": "markdown",
   "id": "c82fb9b1",
   "metadata": {},
   "source": [
    "## 🎯 Student Exercises\n",
    "1. Modify the deposit/withdraw code to run **without locks** and observe inconsistent balances.\n",
    "2. Run the deadlock code → observe program hanging.\n",
    "3. Apply lock ordering to fix the deadlock.\n",
    "4. Extend the deadlock simulation with **3 locks** and show how circular wait arises.\n",
    "5. Discuss: How would concurrency control differ in a **distributed system** (e.g., token-based mutual exclusion)?"
   ]
  }
 ],
 "metadata": {},
 "nbformat": 4,
 "nbformat_minor": 5
}